{
 "cells": [
  {
   "cell_type": "markdown",
   "metadata": {},
   "source": [
    "# Keras - Lab\n",
    "\n",
    "## Introduction\n",
    "\n",
    "In this lab you'll once again build a neural network, but this time you will be using Keras to do a lot of the heavy lifting.\n",
    "\n",
    "\n",
    "## Objectives\n",
    "\n",
    "You will be able to:\n",
    "\n",
    "- Build a neural network using Keras \n",
    "- Evaluate performance of a neural network using Keras "
   ]
  },
  {
   "cell_type": "markdown",
   "metadata": {},
   "source": [
    "## Required Packages\n",
    "\n",
    "We'll start by importing all of the required packages and classes."
   ]
  },
  {
   "cell_type": "code",
   "execution_count": 1,
   "metadata": {
    "ExecuteTime": {
     "end_time": "2020-05-08T04:26:45.094980Z",
     "start_time": "2020-05-08T04:26:37.335533Z"
    }
   },
   "outputs": [
    {
     "name": "stderr",
     "output_type": "stream",
     "text": [
      "Using TensorFlow backend.\n",
      "/Users/timsennett/opt/anaconda3/envs/learn-env/lib/python3.6/site-packages/tensorflow/python/framework/dtypes.py:517: FutureWarning: Passing (type, 1) or '1type' as a synonym of type is deprecated; in a future version of numpy, it will be understood as (type, (1,)) / '(1,)type'.\n",
      "  _np_qint8 = np.dtype([(\"qint8\", np.int8, 1)])\n",
      "/Users/timsennett/opt/anaconda3/envs/learn-env/lib/python3.6/site-packages/tensorflow/python/framework/dtypes.py:518: FutureWarning: Passing (type, 1) or '1type' as a synonym of type is deprecated; in a future version of numpy, it will be understood as (type, (1,)) / '(1,)type'.\n",
      "  _np_quint8 = np.dtype([(\"quint8\", np.uint8, 1)])\n",
      "/Users/timsennett/opt/anaconda3/envs/learn-env/lib/python3.6/site-packages/tensorflow/python/framework/dtypes.py:519: FutureWarning: Passing (type, 1) or '1type' as a synonym of type is deprecated; in a future version of numpy, it will be understood as (type, (1,)) / '(1,)type'.\n",
      "  _np_qint16 = np.dtype([(\"qint16\", np.int16, 1)])\n",
      "/Users/timsennett/opt/anaconda3/envs/learn-env/lib/python3.6/site-packages/tensorflow/python/framework/dtypes.py:520: FutureWarning: Passing (type, 1) or '1type' as a synonym of type is deprecated; in a future version of numpy, it will be understood as (type, (1,)) / '(1,)type'.\n",
      "  _np_quint16 = np.dtype([(\"quint16\", np.uint16, 1)])\n",
      "/Users/timsennett/opt/anaconda3/envs/learn-env/lib/python3.6/site-packages/tensorflow/python/framework/dtypes.py:521: FutureWarning: Passing (type, 1) or '1type' as a synonym of type is deprecated; in a future version of numpy, it will be understood as (type, (1,)) / '(1,)type'.\n",
      "  _np_qint32 = np.dtype([(\"qint32\", np.int32, 1)])\n",
      "/Users/timsennett/opt/anaconda3/envs/learn-env/lib/python3.6/site-packages/tensorflow/python/framework/dtypes.py:526: FutureWarning: Passing (type, 1) or '1type' as a synonym of type is deprecated; in a future version of numpy, it will be understood as (type, (1,)) / '(1,)type'.\n",
      "  np_resource = np.dtype([(\"resource\", np.ubyte, 1)])\n"
     ]
    }
   ],
   "source": [
    "import matplotlib.pyplot as plt\n",
    "import pandas as pd\n",
    "import numpy as np\n",
    "import random\n",
    "from sklearn.model_selection import train_test_split\n",
    "from keras.utils.np_utils import to_categorical\n",
    "from sklearn import preprocessing\n",
    "from keras.preprocessing.text import Tokenizer\n",
    "from keras import models\n",
    "from keras import layers\n",
    "from keras import optimizers"
   ]
  },
  {
   "cell_type": "markdown",
   "metadata": {},
   "source": [
    "## Load the data\n",
    "\n",
    "In this lab you will be classifying bank complaints available in the `'Bank_complaints.csv'` file. "
   ]
  },
  {
   "cell_type": "code",
   "execution_count": 2,
   "metadata": {
    "ExecuteTime": {
     "end_time": "2020-05-08T04:28:15.954364Z",
     "start_time": "2020-05-08T04:28:14.923141Z"
    }
   },
   "outputs": [
    {
     "name": "stdout",
     "output_type": "stream",
     "text": [
      "<class 'pandas.core.frame.DataFrame'>\n",
      "RangeIndex: 60000 entries, 0 to 59999\n",
      "Data columns (total 2 columns):\n",
      "Product                         60000 non-null object\n",
      "Consumer complaint narrative    60000 non-null object\n",
      "dtypes: object(2)\n",
      "memory usage: 937.6+ KB\n",
      "None\n"
     ]
    },
    {
     "data": {
      "text/html": [
       "<div>\n",
       "<style scoped>\n",
       "    .dataframe tbody tr th:only-of-type {\n",
       "        vertical-align: middle;\n",
       "    }\n",
       "\n",
       "    .dataframe tbody tr th {\n",
       "        vertical-align: top;\n",
       "    }\n",
       "\n",
       "    .dataframe thead th {\n",
       "        text-align: right;\n",
       "    }\n",
       "</style>\n",
       "<table border=\"1\" class=\"dataframe\">\n",
       "  <thead>\n",
       "    <tr style=\"text-align: right;\">\n",
       "      <th></th>\n",
       "      <th>Product</th>\n",
       "      <th>Consumer complaint narrative</th>\n",
       "    </tr>\n",
       "  </thead>\n",
       "  <tbody>\n",
       "    <tr>\n",
       "      <th>0</th>\n",
       "      <td>Student loan</td>\n",
       "      <td>In XX/XX/XXXX I filled out the Fedlaon applica...</td>\n",
       "    </tr>\n",
       "    <tr>\n",
       "      <th>1</th>\n",
       "      <td>Student loan</td>\n",
       "      <td>I am being contacted by a debt collector for p...</td>\n",
       "    </tr>\n",
       "    <tr>\n",
       "      <th>2</th>\n",
       "      <td>Student loan</td>\n",
       "      <td>I cosigned XXXX student loans at SallieMae for...</td>\n",
       "    </tr>\n",
       "    <tr>\n",
       "      <th>3</th>\n",
       "      <td>Student loan</td>\n",
       "      <td>Navient has sytematically and illegally failed...</td>\n",
       "    </tr>\n",
       "    <tr>\n",
       "      <th>4</th>\n",
       "      <td>Student loan</td>\n",
       "      <td>My wife became eligible for XXXX Loan Forgiven...</td>\n",
       "    </tr>\n",
       "  </tbody>\n",
       "</table>\n",
       "</div>"
      ],
      "text/plain": [
       "        Product                       Consumer complaint narrative\n",
       "0  Student loan  In XX/XX/XXXX I filled out the Fedlaon applica...\n",
       "1  Student loan  I am being contacted by a debt collector for p...\n",
       "2  Student loan  I cosigned XXXX student loans at SallieMae for...\n",
       "3  Student loan  Navient has sytematically and illegally failed...\n",
       "4  Student loan  My wife became eligible for XXXX Loan Forgiven..."
      ]
     },
     "execution_count": 2,
     "metadata": {},
     "output_type": "execute_result"
    }
   ],
   "source": [
    "# Import data\n",
    "df = pd.read_csv('Bank_complaints.csv')\n",
    "\n",
    "# Inspect data\n",
    "print(df.info())\n",
    "df.head()"
   ]
  },
  {
   "cell_type": "markdown",
   "metadata": {},
   "source": [
    "As mentioned earlier, your task is to categorize banking complaints into various predefined categories. Preview what these categories are and what percent of the complaints each accounts for. "
   ]
  },
  {
   "cell_type": "code",
   "execution_count": 27,
   "metadata": {
    "ExecuteTime": {
     "end_time": "2020-05-08T04:56:26.870617Z",
     "start_time": "2020-05-08T04:56:26.797602Z"
    }
   },
   "outputs": [
    {
     "name": "stdout",
     "output_type": "stream",
     "text": [
      "Rate of complaints on 'Student loan':\t 0.190067\n",
      "Rate of complaints on 'Credit card':\t 0.159\n",
      "Rate of complaints on 'Bank account or service':\t 0.138483\n",
      "Rate of complaints on 'Consumer Loan':\t 0.1579\n",
      "Rate of complaints on 'Checking or savings account':\t 0.101283\n",
      "Rate of complaints on 'Mortgage':\t 0.138867\n",
      "Rate of complaints on 'Credit reporting':\t 0.1144\n"
     ]
    }
   ],
   "source": [
    "# Your code here\n",
    "\n",
    "labels = df['Product'].unique()\n",
    "\n",
    "for label in labels:\n",
    "    print(f\"Rate of complaints on '{label}':\\t\",\n",
    "          round(len(df[df['Product']==label]) / len(df),6))\n",
    "    \n",
    "# df['Product'].value_counts(normalize=True)"
   ]
  },
  {
   "cell_type": "markdown",
   "metadata": {},
   "source": [
    "## Preprocessing\n",
    "\n",
    "Before we build our neural network, we need to do several preprocessing steps. First, we will create word vector counts (a bag of words type representation) of our complaints text. Next, we will change the category labels to integers. Finally, we will perform our usual train-test split before building and training our neural network using Keras. With that, let's start munging our data! \n",
    "\n",
    "## One-hot encoding of the complaints\n",
    "\n",
    "Our first step again is to transform our textual data into a numerical representation. As we saw in some of our previous lessons on NLP, there are many ways to do this. Here, we'll use the `Tokenizer()` class from the `preprocessing.text` sub-module of the Keras package.   \n",
    "\n",
    "As with our previous work using NLTK, this will transform our text complaints into word vectors. (Note that the method of creating a vector is different from our previous work with NLTK; as you'll see, word order will be preserved as opposed to a bag of words representation). In the below code, we'll only keep the 2,000 most common words and use one-hot encoding. \n",
    "\n"
   ]
  },
  {
   "cell_type": "code",
   "execution_count": 28,
   "metadata": {
    "ExecuteTime": {
     "end_time": "2020-05-08T05:00:14.413646Z",
     "start_time": "2020-05-08T05:00:14.343045Z"
    }
   },
   "outputs": [],
   "source": [
    "# As a quick preliminary, briefly review the docstring for keras.preprocessing.text.Tokenizer\n",
    "Tokenizer?"
   ]
  },
  {
   "cell_type": "code",
   "execution_count": 29,
   "metadata": {
    "ExecuteTime": {
     "end_time": "2020-05-08T05:05:24.191800Z",
     "start_time": "2020-05-08T05:04:47.815585Z"
    }
   },
   "outputs": [
    {
     "name": "stdout",
     "output_type": "stream",
     "text": [
      "sequences type: <class 'list'>\n",
      "one_hot_results type: <class 'numpy.ndarray'>\n",
      "Found 50110 unique tokens.\n",
      "Dimensions of our coded results: (60000, 2000)\n"
     ]
    }
   ],
   "source": [
    "# ⏰ This cell may take about thirty seconds to run\n",
    "\n",
    "# Raw text complaints\n",
    "complaints = df['Consumer complaint narrative'] \n",
    "\n",
    "# Initialize a tokenizer \n",
    "tokenizer = Tokenizer(num_words=2000) \n",
    "\n",
    "# Fit it to the complaints\n",
    "tokenizer.fit_on_texts(complaints) \n",
    "\n",
    "# Generate sequences\n",
    "sequences = tokenizer.texts_to_sequences(complaints) \n",
    "print('sequences type:', type(sequences))\n",
    "\n",
    "# Similar to sequences, but returns a numpy array\n",
    "one_hot_results= tokenizer.texts_to_matrix(complaints, mode='binary') \n",
    "print('one_hot_results type:', type(one_hot_results))\n",
    "\n",
    "# Useful if we wish to decode (more explanation below)\n",
    "word_index = tokenizer.word_index \n",
    "\n",
    "# Tokens are the number of unique words across the corpus\n",
    "print('Found %s unique tokens.' % len(word_index)) \n",
    "\n",
    "# Our coded data\n",
    "print('Dimensions of our coded results:', np.shape(one_hot_results)) "
   ]
  },
  {
   "cell_type": "markdown",
   "metadata": {},
   "source": [
    "## Decoding Word Vectors \n",
    "\n",
    "As a note, you can also decode these vectorized representations of the reviews. The `word_index` variable, defined above, stores the mapping from the label number to the actual word. Somewhat tediously, we can turn this dictionary inside out and map it back to our word vectors, giving us roughly the original complaint back. (As you'll see, the text won't be identical as we limited ourselves to top 2000 words.)\n",
    "\n",
    "## Python Review / Mini Challenge\n",
    "\n",
    "While a bit tangential to our main topic of interest, we need to reverse our current dictionary `word_index` which maps words from our corpus to integers. In decoding our `one_hot_results`, we will need to create a dictionary of these integers to the original words. Below, take the `word_index` dictionary object and change the orientation so that the values are keys and the keys values. In other words, you are transforming something of the form {A:1, B:2, C:3} to {1:A, 2:B, 3:C}. "
   ]
  },
  {
   "cell_type": "code",
   "execution_count": 30,
   "metadata": {
    "ExecuteTime": {
     "end_time": "2020-05-08T05:08:52.456391Z",
     "start_time": "2020-05-08T05:08:52.422164Z"
    }
   },
   "outputs": [],
   "source": [
    "# Your code here\n",
    "reverse_index = dict([(value, key) for (key, value) in word_index.items()])"
   ]
  },
  {
   "cell_type": "markdown",
   "metadata": {},
   "source": [
    "## Back to Decoding Our Word Vectors..."
   ]
  },
  {
   "cell_type": "code",
   "execution_count": 8,
   "metadata": {},
   "outputs": [
    {
     "name": "stdout",
     "output_type": "stream",
     "text": [
      "Original complaint text:\n",
      "I have already filed several complaints about AES/PHEAA. I was notified by a XXXX XXXX let @ XXXX, who pretended to be from your office, he said he was from CFPB. I found out this morning he is n't from your office, but is actually works at XXXX. \n",
      "\n",
      "This has wasted weeks of my time. They AES/PHEAA confirmed and admitted ( see attached transcript of XXXX, conversation at XXXX ( XXXX ) with XXXX that proves they verified the loans are not mine ) the student loans they had XXXX, and collected on, and reported negate credit reporting in my name are in fact, not mine. \n",
      "They conclued their investigation on XXXX admitting they made a mistake and have my name on soneone elses loans. I these XXXX loans total {$10000.00}, original amount. My XXXX loans I got was total {$3500.00}. We proved by providing AES/PHEAA, this with my original promissary notes I located recently, the XXXX of my college provided AES/PHEAA with their original shoeinf amounts of my XXXX loans which show different dates and amounts, the dates and amounts are not even close to matching these loans they have in my name, The original lender, XXXX XXXX Bank notifying AES/PHEAA, they never issued me a student loan, and original Loan Guarantor, XXXX, notifying AES/PHEAA, they never were guarantor of my loans. \n",
      "\n",
      "XXXX straight forward. But today, this person, XXXX XXXX, told me they know these loans are not mine, and they refuse to remove my name off these XXXX loan 's and correct their mistake, essentially forcing me to pay these loans off, bucause in XXXX they sold the loans to XXXX loans. \n",
      "\n",
      "This is absurd, first protruding to be this office, and then refusing to correct their mistake. \n",
      "\n",
      "Please for the love of XXXX will soneone from your office call me at XXXX, today. I am a XXXX vet and they are knowingly discriminating against me. \n",
      "Pretending to be you.\n",
      "\n",
      "\n",
      "\n",
      "Decoded review from Tokenizer:\n",
      "i have already filed several complaints about aes i was notified by a xxxx xxxx let xxxx who to be from your office he said he was from cfpb i found out this morning he is n't from your office but is actually works at xxxx this has weeks of my time they aes confirmed and admitted see attached of xxxx conversation at xxxx xxxx with xxxx that they verified the loans are not mine the student loans they had xxxx and on and reported credit reporting in my name are in fact not mine they their investigation on xxxx they made a mistake and have my name on loans i these xxxx loans total 10000 00 original amount my xxxx loans i got was total 00 we by providing aes this with my original notes i located recently the xxxx of my college provided aes with their original amounts of my xxxx loans which show different dates and amounts the dates and amounts are not even close to these loans they have in my name the original lender xxxx xxxx bank notifying aes they never issued me a student loan and original loan xxxx notifying aes they never were of my loans xxxx forward but today this person xxxx xxxx told me they know these loans are not mine and they refuse to remove my name off these xxxx loan 's and correct their mistake essentially me to pay these loans off in xxxx they sold the loans to xxxx loans this is first to be this office and then refusing to correct their mistake please for the of xxxx will from your office call me at xxxx today i am a xxxx and they are against me to be you\n"
     ]
    }
   ],
   "source": [
    "comment_idx_to_preview = 19\n",
    "print('Original complaint text:')\n",
    "print(complaints[comment_idx_to_preview])\n",
    "print('\\n\\n')\n",
    "\n",
    "# The reverse_index cell block above must be complete in order for this cell block to successively execute \n",
    "decoded_review = ' '.join([reverse_index.get(i) for i in sequences[comment_idx_to_preview]])\n",
    "print('Decoded review from Tokenizer:')\n",
    "print(decoded_review)"
   ]
  },
  {
   "cell_type": "markdown",
   "metadata": {},
   "source": [
    "## Convert the Products to Numerical Categories\n",
    "\n",
    "On to step two of our preprocessing: converting our descriptive categories into integers."
   ]
  },
  {
   "cell_type": "code",
   "execution_count": 31,
   "metadata": {
    "ExecuteTime": {
     "end_time": "2020-05-08T05:16:48.362075Z",
     "start_time": "2020-05-08T05:16:48.315936Z"
    }
   },
   "outputs": [
    {
     "name": "stdout",
     "output_type": "stream",
     "text": [
      "Original class labels:\n",
      "['Bank account or service', 'Checking or savings account', 'Consumer Loan', 'Credit card', 'Credit reporting', 'Mortgage', 'Student loan']\n",
      "\n",
      "\n",
      "New product labels:\n",
      "[6 6 6 ... 4 4 4]\n",
      "\n",
      "\n",
      "One hot labels; 7 binary columns, one for each of the categories.\n",
      "[[0. 0. 0. ... 0. 0. 1.]\n",
      " [0. 0. 0. ... 0. 0. 1.]\n",
      " [0. 0. 0. ... 0. 0. 1.]\n",
      " ...\n",
      " [0. 0. 0. ... 1. 0. 0.]\n",
      " [0. 0. 0. ... 1. 0. 0.]\n",
      " [0. 0. 0. ... 1. 0. 0.]]\n",
      "\n",
      "\n",
      "One hot labels shape:\n",
      "(60000, 7)\n"
     ]
    }
   ],
   "source": [
    "product = df['Product']\n",
    "\n",
    "# Initialize\n",
    "le = preprocessing.LabelEncoder() \n",
    "le.fit(product)\n",
    "print('Original class labels:')\n",
    "print(list(le.classes_))\n",
    "print('\\n')\n",
    "product_cat = le.transform(product)  \n",
    "\n",
    "# If you wish to retrieve the original descriptive labels post production\n",
    "# list(le.inverse_transform([0, 1, 3, 3, 0, 6, 4])) \n",
    "\n",
    "print('New product labels:')\n",
    "print(product_cat)\n",
    "print('\\n')\n",
    "\n",
    "# Each row will be all zeros except for the category for that observation \n",
    "print('One hot labels; 7 binary columns, one for each of the categories.') \n",
    "product_onehot = to_categorical(product_cat)\n",
    "print(product_onehot)\n",
    "print('\\n')\n",
    "\n",
    "print('One hot labels shape:')\n",
    "print(np.shape(product_onehot))"
   ]
  },
  {
   "cell_type": "markdown",
   "metadata": {},
   "source": [
    "## Train-test split\n",
    "\n",
    "Now for our final preprocessing step: the usual train-test split. "
   ]
  },
  {
   "cell_type": "code",
   "execution_count": 32,
   "metadata": {
    "ExecuteTime": {
     "end_time": "2020-05-08T05:22:13.209720Z",
     "start_time": "2020-05-08T05:22:09.035726Z"
    }
   },
   "outputs": [
    {
     "name": "stdout",
     "output_type": "stream",
     "text": [
      "Test label shape: (1500, 7)\n",
      "Train label shape: (58500, 7)\n",
      "Test shape: (1500, 2000)\n",
      "Train shape: (58500, 2000)\n"
     ]
    }
   ],
   "source": [
    "random.seed(123)\n",
    "test_index = random.sample(range(1,10000), 1500)\n",
    "\n",
    "test = one_hot_results[test_index]\n",
    "train = np.delete(one_hot_results, test_index, axis=0)\n",
    "\n",
    "label_test = product_onehot[test_index]\n",
    "label_train = np.delete(product_onehot, test_index, axis=0)\n",
    "\n",
    "print('Test label shape:', np.shape(label_test))\n",
    "print('Train label shape:', np.shape(label_train))\n",
    "print('Test shape:', np.shape(test))\n",
    "print('Train shape:', np.shape(train))"
   ]
  },
  {
   "cell_type": "markdown",
   "metadata": {},
   "source": [
    "## Building the network\n",
    "\n",
    "Let's build a fully connected (Dense) layer network with relu activation in Keras. You can do this using: `Dense(16, activation='relu')`. \n",
    "\n",
    "In this example, use two hidden layers with 50 units in the first layer and 25 in the second, both with a `'relu'` activation function. Because we are dealing with a multiclass problem (classifying the complaints into 7 categories), we use a use a `'softmax'` classifier in order to output 7 class probabilities per case.  "
   ]
  },
  {
   "cell_type": "code",
   "execution_count": 34,
   "metadata": {
    "ExecuteTime": {
     "end_time": "2020-05-08T05:30:53.028955Z",
     "start_time": "2020-05-08T05:30:53.018868Z"
    }
   },
   "outputs": [
    {
     "data": {
      "text/plain": [
       "1250"
      ]
     },
     "execution_count": 34,
     "metadata": {},
     "output_type": "execute_result"
    }
   ],
   "source": [
    "50*25"
   ]
  },
  {
   "cell_type": "code",
   "execution_count": 35,
   "metadata": {
    "ExecuteTime": {
     "end_time": "2020-05-08T05:32:53.579626Z",
     "start_time": "2020-05-08T05:32:53.420316Z"
    }
   },
   "outputs": [],
   "source": [
    "# Initialize a sequential model\n",
    "model = models.Sequential()\n",
    "\n",
    "# Two layers with relu activation\n",
    "model.add(layers.Dense(50, activation='relu', input_shape=(2000,)))\n",
    "model.add(layers.Dense(25, activation='relu'))\n",
    "\n",
    "\n",
    "# One layer with softmax activation \n",
    "model.add(layers.Dense(7, activation='softmax'))"
   ]
  },
  {
   "cell_type": "markdown",
   "metadata": {},
   "source": [
    "## Compiling the model\n",
    "\n",
    "Now, compile the model! This time, use `'categorical_crossentropy'` as the loss function and stochastic gradient descent, `'SGD'` as the optimizer. As in the previous lesson, include the accuracy as a metric."
   ]
  },
  {
   "cell_type": "code",
   "execution_count": 37,
   "metadata": {
    "ExecuteTime": {
     "end_time": "2020-05-08T05:34:52.911875Z",
     "start_time": "2020-05-08T05:34:52.780218Z"
    }
   },
   "outputs": [],
   "source": [
    "# Compile the model\n",
    "model.compile(loss='categorical_crossentropy',\n",
    "              optimizer='SGD',\n",
    "              metrics=['accuracy'])"
   ]
  },
  {
   "cell_type": "markdown",
   "metadata": {},
   "source": [
    "## Training the model\n",
    "\n",
    "In the compiler, you'll be passing the optimizer (SGD = stochastic gradient descent), loss function, and metrics. Train the model for 120 epochs in mini-batches of 256 samples.\n",
    "\n",
    "_Note:_ ⏰ _Your code may take about one to two minutes to run._"
   ]
  },
  {
   "cell_type": "code",
   "execution_count": 38,
   "metadata": {
    "ExecuteTime": {
     "end_time": "2020-05-08T05:44:03.829041Z",
     "start_time": "2020-05-08T05:37:27.246207Z"
    }
   },
   "outputs": [
    {
     "name": "stdout",
     "output_type": "stream",
     "text": [
      "Epoch 1/200\n",
      "58500/58500 [==============================] - 6s 100us/step - loss: 1.8659 - acc: 0.2533\n",
      "Epoch 2/200\n",
      "58500/58500 [==============================] - 3s 59us/step - loss: 1.5753 - acc: 0.4460\n",
      "Epoch 3/200\n",
      "58500/58500 [==============================] - 4s 60us/step - loss: 1.2299 - acc: 0.6068\n",
      "Epoch 4/200\n",
      "58500/58500 [==============================] - 4s 61us/step - loss: 0.9898 - acc: 0.6798\n",
      "Epoch 5/200\n",
      "58500/58500 [==============================] - 4s 66us/step - loss: 0.8469 - acc: 0.7134\n",
      "Epoch 6/200\n",
      "58500/58500 [==============================] - 4s 60us/step - loss: 0.7626 - acc: 0.7338\n",
      "Epoch 7/200\n",
      "58500/58500 [==============================] - 4s 61us/step - loss: 0.7090 - acc: 0.7480\n",
      "Epoch 8/200\n",
      "58500/58500 [==============================] - 4s 62us/step - loss: 0.6712 - acc: 0.7589\n",
      "Epoch 9/200\n",
      "58500/58500 [==============================] - 4s 61us/step - loss: 0.6424 - acc: 0.7675\n",
      "Epoch 10/200\n",
      "58500/58500 [==============================] - 4s 60us/step - loss: 0.6197 - acc: 0.7744\n",
      "Epoch 11/200\n",
      "58500/58500 [==============================] - 4s 61us/step - loss: 0.6009 - acc: 0.7815\n",
      "Epoch 12/200\n",
      "58500/58500 [==============================] - 4s 63us/step - loss: 0.5850 - acc: 0.7883\n",
      "Epoch 13/200\n",
      "58500/58500 [==============================] - 4s 62us/step - loss: 0.5714 - acc: 0.7933\n",
      "Epoch 14/200\n",
      "58500/58500 [==============================] - 4s 60us/step - loss: 0.5596 - acc: 0.7982\n",
      "Epoch 15/200\n",
      "58500/58500 [==============================] - 4s 60us/step - loss: 0.5490 - acc: 0.8017\n",
      "Epoch 16/200\n",
      "58500/58500 [==============================] - 4s 66us/step - loss: 0.5392 - acc: 0.8055\n",
      "Epoch 17/200\n",
      "58500/58500 [==============================] - 4s 63us/step - loss: 0.5307 - acc: 0.8095\n",
      "Epoch 18/200\n",
      "58500/58500 [==============================] - 3s 60us/step - loss: 0.5227 - acc: 0.8127\n",
      "Epoch 19/200\n",
      "58500/58500 [==============================] - 4s 63us/step - loss: 0.5156 - acc: 0.8156\n",
      "Epoch 20/200\n",
      "58500/58500 [==============================] - 3s 55us/step - loss: 0.5087 - acc: 0.8180\n",
      "Epoch 21/200\n",
      "58500/58500 [==============================] - 4s 69us/step - loss: 0.5026 - acc: 0.8208\n",
      "Epoch 22/200\n",
      "58500/58500 [==============================] - 3s 51us/step - loss: 0.4968 - acc: 0.8228\n",
      "Epoch 23/200\n",
      "58500/58500 [==============================] - 2s 31us/step - loss: 0.4917 - acc: 0.8248\n",
      "Epoch 24/200\n",
      "58500/58500 [==============================] - 2s 31us/step - loss: 0.4862 - acc: 0.8272\n",
      "Epoch 25/200\n",
      "58500/58500 [==============================] - 2s 32us/step - loss: 0.4815 - acc: 0.8281\n",
      "Epoch 26/200\n",
      "58500/58500 [==============================] - 2s 36us/step - loss: 0.4770 - acc: 0.8298\n",
      "Epoch 27/200\n",
      "58500/58500 [==============================] - 2s 33us/step - loss: 0.4728 - acc: 0.8314\n",
      "Epoch 28/200\n",
      "58500/58500 [==============================] - 2s 32us/step - loss: 0.4685 - acc: 0.8327\n",
      "Epoch 29/200\n",
      "58500/58500 [==============================] - 2s 31us/step - loss: 0.4650 - acc: 0.8351\n",
      "Epoch 30/200\n",
      "58500/58500 [==============================] - 2s 31us/step - loss: 0.4614 - acc: 0.8363\n",
      "Epoch 31/200\n",
      "58500/58500 [==============================] - 2s 32us/step - loss: 0.4577 - acc: 0.8381\n",
      "Epoch 32/200\n",
      "58500/58500 [==============================] - 2s 33us/step - loss: 0.4543 - acc: 0.8394\n",
      "Epoch 33/200\n",
      "58500/58500 [==============================] - 2s 32us/step - loss: 0.4513 - acc: 0.8402\n",
      "Epoch 34/200\n",
      "58500/58500 [==============================] - 2s 32us/step - loss: 0.4483 - acc: 0.8414\n",
      "Epoch 35/200\n",
      "58500/58500 [==============================] - 2s 31us/step - loss: 0.4450 - acc: 0.8424\n",
      "Epoch 36/200\n",
      "58500/58500 [==============================] - 2s 32us/step - loss: 0.4422 - acc: 0.8441\n",
      "Epoch 37/200\n",
      "58500/58500 [==============================] - 2s 31us/step - loss: 0.4395 - acc: 0.8443\n",
      "Epoch 38/200\n",
      "58500/58500 [==============================] - 2s 31us/step - loss: 0.4372 - acc: 0.8454\n",
      "Epoch 39/200\n",
      "58500/58500 [==============================] - 2s 31us/step - loss: 0.4346 - acc: 0.8467\n",
      "Epoch 40/200\n",
      "58500/58500 [==============================] - 2s 32us/step - loss: 0.4318 - acc: 0.8479\n",
      "Epoch 41/200\n",
      "58500/58500 [==============================] - 2s 33us/step - loss: 0.4296 - acc: 0.8492\n",
      "Epoch 42/200\n",
      "58500/58500 [==============================] - 2s 32us/step - loss: 0.4274 - acc: 0.8491\n",
      "Epoch 43/200\n",
      "58500/58500 [==============================] - 2s 31us/step - loss: 0.4247 - acc: 0.8511\n",
      "Epoch 44/200\n",
      "58500/58500 [==============================] - 2s 31us/step - loss: 0.4229 - acc: 0.8510\n",
      "Epoch 45/200\n",
      "58500/58500 [==============================] - 2s 31us/step - loss: 0.4209 - acc: 0.8513\n",
      "Epoch 46/200\n",
      "58500/58500 [==============================] - 2s 32us/step - loss: 0.4185 - acc: 0.8526\n",
      "Epoch 47/200\n",
      "58500/58500 [==============================] - 2s 31us/step - loss: 0.4167 - acc: 0.8530\n",
      "Epoch 48/200\n",
      "58500/58500 [==============================] - 2s 31us/step - loss: 0.4147 - acc: 0.8534\n",
      "Epoch 49/200\n",
      "58500/58500 [==============================] - 2s 31us/step - loss: 0.4125 - acc: 0.8552\n",
      "Epoch 50/200\n",
      "58500/58500 [==============================] - 2s 31us/step - loss: 0.4110 - acc: 0.8543\n",
      "Epoch 51/200\n",
      "58500/58500 [==============================] - 2s 31us/step - loss: 0.4092 - acc: 0.8557\n",
      "Epoch 52/200\n",
      "58500/58500 [==============================] - 2s 31us/step - loss: 0.4074 - acc: 0.8561\n",
      "Epoch 53/200\n",
      "58500/58500 [==============================] - 2s 31us/step - loss: 0.4058 - acc: 0.8564\n",
      "Epoch 54/200\n",
      "58500/58500 [==============================] - 2s 32us/step - loss: 0.4037 - acc: 0.8568\n",
      "Epoch 55/200\n",
      "58500/58500 [==============================] - 2s 31us/step - loss: 0.4026 - acc: 0.8579\n",
      "Epoch 56/200\n",
      "58500/58500 [==============================] - 2s 32us/step - loss: 0.4007 - acc: 0.8581\n",
      "Epoch 57/200\n",
      "58500/58500 [==============================] - 2s 32us/step - loss: 0.3991 - acc: 0.8595\n",
      "Epoch 58/200\n",
      "58500/58500 [==============================] - 2s 31us/step - loss: 0.3976 - acc: 0.8597\n",
      "Epoch 59/200\n",
      "58500/58500 [==============================] - 2s 32us/step - loss: 0.3958 - acc: 0.8599\n",
      "Epoch 60/200\n",
      "58500/58500 [==============================] - 2s 32us/step - loss: 0.3947 - acc: 0.8598\n",
      "Epoch 61/200\n",
      "58500/58500 [==============================] - 2s 31us/step - loss: 0.3932 - acc: 0.8618\n",
      "Epoch 62/200\n",
      "58500/58500 [==============================] - 2s 32us/step - loss: 0.3918 - acc: 0.8617\n",
      "Epoch 63/200\n",
      "58500/58500 [==============================] - 2s 31us/step - loss: 0.3904 - acc: 0.8616\n",
      "Epoch 64/200\n",
      "58500/58500 [==============================] - 2s 31us/step - loss: 0.3889 - acc: 0.8631\n",
      "Epoch 65/200\n",
      "58500/58500 [==============================] - 2s 32us/step - loss: 0.3878 - acc: 0.8634\n",
      "Epoch 66/200\n",
      "58500/58500 [==============================] - 2s 33us/step - loss: 0.3863 - acc: 0.8629\n",
      "Epoch 67/200\n",
      "58500/58500 [==============================] - 2s 32us/step - loss: 0.3849 - acc: 0.8637\n",
      "Epoch 68/200\n",
      "58500/58500 [==============================] - 2s 32us/step - loss: 0.3837 - acc: 0.8646\n",
      "Epoch 69/200\n",
      "58500/58500 [==============================] - 2s 32us/step - loss: 0.3825 - acc: 0.8649\n",
      "Epoch 70/200\n",
      "58500/58500 [==============================] - 2s 32us/step - loss: 0.3812 - acc: 0.8649\n",
      "Epoch 71/200\n",
      "58500/58500 [==============================] - 2s 32us/step - loss: 0.3801 - acc: 0.8651\n",
      "Epoch 72/200\n",
      "58500/58500 [==============================] - 2s 32us/step - loss: 0.3789 - acc: 0.8659\n",
      "Epoch 73/200\n",
      "58500/58500 [==============================] - 2s 32us/step - loss: 0.3779 - acc: 0.8662\n",
      "Epoch 74/200\n",
      "58500/58500 [==============================] - 2s 32us/step - loss: 0.3765 - acc: 0.8669\n",
      "Epoch 75/200\n",
      "58500/58500 [==============================] - 2s 32us/step - loss: 0.3752 - acc: 0.8675\n",
      "Epoch 76/200\n",
      "58500/58500 [==============================] - 2s 35us/step - loss: 0.3741 - acc: 0.8677\n",
      "Epoch 77/200\n",
      "58500/58500 [==============================] - 2s 32us/step - loss: 0.3731 - acc: 0.8678\n",
      "Epoch 78/200\n",
      "58500/58500 [==============================] - 2s 32us/step - loss: 0.3719 - acc: 0.8685\n",
      "Epoch 79/200\n",
      "58500/58500 [==============================] - 2s 32us/step - loss: 0.3709 - acc: 0.8681\n",
      "Epoch 80/200\n",
      "58500/58500 [==============================] - 2s 32us/step - loss: 0.3700 - acc: 0.8689\n",
      "Epoch 81/200\n"
     ]
    },
    {
     "name": "stdout",
     "output_type": "stream",
     "text": [
      "58500/58500 [==============================] - 2s 29us/step - loss: 0.3687 - acc: 0.8691\n",
      "Epoch 82/200\n",
      "58500/58500 [==============================] - 2s 29us/step - loss: 0.3677 - acc: 0.8697\n",
      "Epoch 83/200\n",
      "58500/58500 [==============================] - 2s 30us/step - loss: 0.3666 - acc: 0.8706\n",
      "Epoch 84/200\n",
      "58500/58500 [==============================] - 2s 29us/step - loss: 0.3656 - acc: 0.8699\n",
      "Epoch 85/200\n",
      "58500/58500 [==============================] - 2s 29us/step - loss: 0.3647 - acc: 0.8706\n",
      "Epoch 86/200\n",
      "58500/58500 [==============================] - 2s 29us/step - loss: 0.3635 - acc: 0.8715\n",
      "Epoch 87/200\n",
      "58500/58500 [==============================] - 2s 29us/step - loss: 0.3622 - acc: 0.8718\n",
      "Epoch 88/200\n",
      "58500/58500 [==============================] - 2s 29us/step - loss: 0.3616 - acc: 0.8721\n",
      "Epoch 89/200\n",
      "58500/58500 [==============================] - 2s 29us/step - loss: 0.3603 - acc: 0.8720\n",
      "Epoch 90/200\n",
      "58500/58500 [==============================] - 2s 29us/step - loss: 0.3595 - acc: 0.8726\n",
      "Epoch 91/200\n",
      "58500/58500 [==============================] - 2s 30us/step - loss: 0.3588 - acc: 0.8723\n",
      "Epoch 92/200\n",
      "58500/58500 [==============================] - 2s 29us/step - loss: 0.3575 - acc: 0.8734\n",
      "Epoch 93/200\n",
      "58500/58500 [==============================] - 2s 29us/step - loss: 0.3566 - acc: 0.8732\n",
      "Epoch 94/200\n",
      "58500/58500 [==============================] - 2s 30us/step - loss: 0.3559 - acc: 0.8737\n",
      "Epoch 95/200\n",
      "58500/58500 [==============================] - 2s 29us/step - loss: 0.3546 - acc: 0.8743\n",
      "Epoch 96/200\n",
      "58500/58500 [==============================] - 2s 29us/step - loss: 0.3538 - acc: 0.8748\n",
      "Epoch 97/200\n",
      "58500/58500 [==============================] - 2s 29us/step - loss: 0.3528 - acc: 0.8757\n",
      "Epoch 98/200\n",
      "58500/58500 [==============================] - 2s 29us/step - loss: 0.3519 - acc: 0.8758\n",
      "Epoch 99/200\n",
      "58500/58500 [==============================] - 2s 29us/step - loss: 0.3510 - acc: 0.8756\n",
      "Epoch 100/200\n",
      "58500/58500 [==============================] - 2s 29us/step - loss: 0.3503 - acc: 0.8755\n",
      "Epoch 101/200\n",
      "58500/58500 [==============================] - 2s 29us/step - loss: 0.3493 - acc: 0.8763\n",
      "Epoch 102/200\n",
      "58500/58500 [==============================] - 2s 29us/step - loss: 0.3480 - acc: 0.8768\n",
      "Epoch 103/200\n",
      "58500/58500 [==============================] - 2s 29us/step - loss: 0.3475 - acc: 0.8769: 0s - loss: 0.3462 - ac\n",
      "Epoch 104/200\n",
      "58500/58500 [==============================] - 2s 30us/step - loss: 0.3466 - acc: 0.8776: 1s - lo\n",
      "Epoch 105/200\n",
      "58500/58500 [==============================] - 2s 29us/step - loss: 0.3453 - acc: 0.8774\n",
      "Epoch 106/200\n",
      "58500/58500 [==============================] - 2s 29us/step - loss: 0.3448 - acc: 0.8766\n",
      "Epoch 107/200\n",
      "58500/58500 [==============================] - 2s 29us/step - loss: 0.3436 - acc: 0.8779\n",
      "Epoch 108/200\n",
      "58500/58500 [==============================] - 2s 29us/step - loss: 0.3429 - acc: 0.8782\n",
      "Epoch 109/200\n",
      "58500/58500 [==============================] - 2s 29us/step - loss: 0.3419 - acc: 0.8792\n",
      "Epoch 110/200\n",
      "58500/58500 [==============================] - 2s 29us/step - loss: 0.3409 - acc: 0.8790\n",
      "Epoch 111/200\n",
      "58500/58500 [==============================] - 2s 29us/step - loss: 0.3401 - acc: 0.8796\n",
      "Epoch 112/200\n",
      "58500/58500 [==============================] - 2s 29us/step - loss: 0.3392 - acc: 0.8804\n",
      "Epoch 113/200\n",
      "58500/58500 [==============================] - 2s 29us/step - loss: 0.3384 - acc: 0.8797\n",
      "Epoch 114/200\n",
      "58500/58500 [==============================] - 2s 29us/step - loss: 0.3375 - acc: 0.8808\n",
      "Epoch 115/200\n",
      "58500/58500 [==============================] - 2s 29us/step - loss: 0.3362 - acc: 0.8806\n",
      "Epoch 116/200\n",
      "58500/58500 [==============================] - 2s 29us/step - loss: 0.3359 - acc: 0.8814\n",
      "Epoch 117/200\n",
      "58500/58500 [==============================] - 2s 29us/step - loss: 0.3343 - acc: 0.8813\n",
      "Epoch 118/200\n",
      "58500/58500 [==============================] - 2s 30us/step - loss: 0.3336 - acc: 0.8823\n",
      "Epoch 119/200\n",
      "58500/58500 [==============================] - 2s 30us/step - loss: 0.3327 - acc: 0.8827\n",
      "Epoch 120/200\n",
      "58500/58500 [==============================] - 2s 29us/step - loss: 0.3318 - acc: 0.8825\n",
      "Epoch 121/200\n",
      "58500/58500 [==============================] - 2s 30us/step - loss: 0.3310 - acc: 0.8836\n",
      "Epoch 122/200\n",
      "58500/58500 [==============================] - 2s 30us/step - loss: 0.3303 - acc: 0.8834\n",
      "Epoch 123/200\n",
      "58500/58500 [==============================] - 2s 29us/step - loss: 0.3292 - acc: 0.8841\n",
      "Epoch 124/200\n",
      "58500/58500 [==============================] - 2s 30us/step - loss: 0.3283 - acc: 0.8844\n",
      "Epoch 125/200\n",
      "58500/58500 [==============================] - 2s 30us/step - loss: 0.3277 - acc: 0.8847\n",
      "Epoch 126/200\n",
      "58500/58500 [==============================] - 2s 29us/step - loss: 0.3263 - acc: 0.8848\n",
      "Epoch 127/200\n",
      "58500/58500 [==============================] - 2s 30us/step - loss: 0.3248 - acc: 0.8855\n",
      "Epoch 128/200\n",
      "58500/58500 [==============================] - 2s 29us/step - loss: 0.3250 - acc: 0.8855\n",
      "Epoch 129/200\n",
      "58500/58500 [==============================] - 2s 30us/step - loss: 0.3238 - acc: 0.8863\n",
      "Epoch 130/200\n",
      "58500/58500 [==============================] - 2s 30us/step - loss: 0.3232 - acc: 0.8861\n",
      "Epoch 131/200\n",
      "58500/58500 [==============================] - 2s 30us/step - loss: 0.3217 - acc: 0.8869\n",
      "Epoch 132/200\n",
      "58500/58500 [==============================] - 2s 29us/step - loss: 0.3211 - acc: 0.8864\n",
      "Epoch 133/200\n",
      "58500/58500 [==============================] - 2s 29us/step - loss: 0.3201 - acc: 0.8880\n",
      "Epoch 134/200\n",
      "58500/58500 [==============================] - 2s 30us/step - loss: 0.3190 - acc: 0.8879\n",
      "Epoch 135/200\n",
      "58500/58500 [==============================] - 2s 30us/step - loss: 0.3180 - acc: 0.8883\n",
      "Epoch 136/200\n",
      "58500/58500 [==============================] - 2s 29us/step - loss: 0.3172 - acc: 0.8879\n",
      "Epoch 137/200\n",
      "58500/58500 [==============================] - 2s 30us/step - loss: 0.3162 - acc: 0.8890\n",
      "Epoch 138/200\n",
      "58500/58500 [==============================] - 2s 30us/step - loss: 0.3153 - acc: 0.8898\n",
      "Epoch 139/200\n",
      "58500/58500 [==============================] - 2s 30us/step - loss: 0.3140 - acc: 0.8900\n",
      "Epoch 140/200\n",
      "58500/58500 [==============================] - 2s 30us/step - loss: 0.3134 - acc: 0.8898\n",
      "Epoch 141/200\n",
      "58500/58500 [==============================] - 2s 30us/step - loss: 0.3123 - acc: 0.8908\n",
      "Epoch 142/200\n",
      "58500/58500 [==============================] - 2s 30us/step - loss: 0.3110 - acc: 0.8916: 0s - loss: 0.3096 - \n",
      "Epoch 143/200\n",
      "58500/58500 [==============================] - 2s 30us/step - loss: 0.3104 - acc: 0.8918\n",
      "Epoch 144/200\n",
      "58500/58500 [==============================] - 2s 30us/step - loss: 0.3090 - acc: 0.8929\n",
      "Epoch 145/200\n",
      "58500/58500 [==============================] - 2s 30us/step - loss: 0.3085 - acc: 0.8927: 1s - los\n",
      "Epoch 146/200\n",
      "58500/58500 [==============================] - 2s 30us/step - loss: 0.3072 - acc: 0.8931\n",
      "Epoch 147/200\n",
      "58500/58500 [==============================] - 2s 30us/step - loss: 0.3061 - acc: 0.8941\n",
      "Epoch 148/200\n",
      "58500/58500 [==============================] - 2s 29us/step - loss: 0.3053 - acc: 0.8947\n",
      "Epoch 149/200\n",
      "58500/58500 [==============================] - 2s 30us/step - loss: 0.3043 - acc: 0.8947: 0s - loss: 0.3039 - ac\n",
      "Epoch 150/200\n",
      "58500/58500 [==============================] - 2s 30us/step - loss: 0.3032 - acc: 0.8950\n",
      "Epoch 151/200\n",
      "58500/58500 [==============================] - 2s 31us/step - loss: 0.3021 - acc: 0.8954\n",
      "Epoch 152/200\n",
      "58500/58500 [==============================] - 2s 30us/step - loss: 0.3019 - acc: 0.8946\n",
      "Epoch 153/200\n",
      "58500/58500 [==============================] - 2s 30us/step - loss: 0.3005 - acc: 0.8962\n",
      "Epoch 154/200\n",
      "58500/58500 [==============================] - 2s 30us/step - loss: 0.2994 - acc: 0.8964\n",
      "Epoch 155/200\n",
      "58500/58500 [==============================] - 2s 30us/step - loss: 0.2985 - acc: 0.8970\n",
      "Epoch 156/200\n",
      "58500/58500 [==============================] - 2s 30us/step - loss: 0.2975 - acc: 0.8972\n",
      "Epoch 157/200\n",
      "58500/58500 [==============================] - 2s 30us/step - loss: 0.2964 - acc: 0.8988\n",
      "Epoch 158/200\n",
      "58500/58500 [==============================] - 2s 30us/step - loss: 0.2950 - acc: 0.8995\n",
      "Epoch 159/200\n",
      "58500/58500 [==============================] - 2s 31us/step - loss: 0.2937 - acc: 0.8985\n"
     ]
    },
    {
     "name": "stdout",
     "output_type": "stream",
     "text": [
      "Epoch 160/200\n",
      "58500/58500 [==============================] - 2s 30us/step - loss: 0.2928 - acc: 0.8994\n",
      "Epoch 161/200\n",
      "58500/58500 [==============================] - 2s 29us/step - loss: 0.2921 - acc: 0.8994\n",
      "Epoch 162/200\n",
      "58500/58500 [==============================] - 2s 29us/step - loss: 0.2908 - acc: 0.9004: 1s - l\n",
      "Epoch 163/200\n",
      "58500/58500 [==============================] - 2s 29us/step - loss: 0.2899 - acc: 0.9003\n",
      "Epoch 164/200\n",
      "58500/58500 [==============================] - 2s 29us/step - loss: 0.2888 - acc: 0.9017\n",
      "Epoch 165/200\n",
      "58500/58500 [==============================] - 2s 29us/step - loss: 0.2875 - acc: 0.9014\n",
      "Epoch 166/200\n",
      "58500/58500 [==============================] - 2s 29us/step - loss: 0.2863 - acc: 0.9020\n",
      "Epoch 167/200\n",
      "58500/58500 [==============================] - 2s 29us/step - loss: 0.2856 - acc: 0.9015\n",
      "Epoch 168/200\n",
      "58500/58500 [==============================] - 2s 29us/step - loss: 0.2843 - acc: 0.9038\n",
      "Epoch 169/200\n",
      "58500/58500 [==============================] - 2s 29us/step - loss: 0.2831 - acc: 0.9035\n",
      "Epoch 170/200\n",
      "58500/58500 [==============================] - 2s 29us/step - loss: 0.2818 - acc: 0.9047\n",
      "Epoch 171/200\n",
      "58500/58500 [==============================] - 2s 29us/step - loss: 0.2805 - acc: 0.9044\n",
      "Epoch 172/200\n",
      "58500/58500 [==============================] - 2s 30us/step - loss: 0.2799 - acc: 0.9050\n",
      "Epoch 173/200\n",
      "58500/58500 [==============================] - 2s 30us/step - loss: 0.2792 - acc: 0.9061\n",
      "Epoch 174/200\n",
      "58500/58500 [==============================] - 2s 29us/step - loss: 0.2774 - acc: 0.9066\n",
      "Epoch 175/200\n",
      "58500/58500 [==============================] - 2s 29us/step - loss: 0.2767 - acc: 0.9062\n",
      "Epoch 176/200\n",
      "58500/58500 [==============================] - 2s 30us/step - loss: 0.2755 - acc: 0.9068\n",
      "Epoch 177/200\n",
      "58500/58500 [==============================] - 2s 29us/step - loss: 0.2748 - acc: 0.9074\n",
      "Epoch 178/200\n",
      "58500/58500 [==============================] - 2s 30us/step - loss: 0.2733 - acc: 0.9083\n",
      "Epoch 179/200\n",
      "58500/58500 [==============================] - 2s 29us/step - loss: 0.2717 - acc: 0.9094\n",
      "Epoch 180/200\n",
      "58500/58500 [==============================] - 2s 29us/step - loss: 0.2709 - acc: 0.9086\n",
      "Epoch 181/200\n",
      "58500/58500 [==============================] - 2s 29us/step - loss: 0.2695 - acc: 0.9096\n",
      "Epoch 182/200\n",
      "58500/58500 [==============================] - 2s 29us/step - loss: 0.2684 - acc: 0.9100\n",
      "Epoch 183/200\n",
      "58500/58500 [==============================] - 2s 29us/step - loss: 0.2673 - acc: 0.9106\n",
      "Epoch 184/200\n",
      "58500/58500 [==============================] - 2s 29us/step - loss: 0.2668 - acc: 0.9110\n",
      "Epoch 185/200\n",
      "58500/58500 [==============================] - 2s 29us/step - loss: 0.2654 - acc: 0.9118\n",
      "Epoch 186/200\n",
      "58500/58500 [==============================] - 2s 30us/step - loss: 0.2637 - acc: 0.9125\n",
      "Epoch 187/200\n",
      "58500/58500 [==============================] - 2s 29us/step - loss: 0.2630 - acc: 0.9124\n",
      "Epoch 188/200\n",
      "58500/58500 [==============================] - 2s 29us/step - loss: 0.2620 - acc: 0.9130\n",
      "Epoch 189/200\n",
      "58500/58500 [==============================] - 2s 30us/step - loss: 0.2603 - acc: 0.9138\n",
      "Epoch 190/200\n",
      "58500/58500 [==============================] - 2s 30us/step - loss: 0.2598 - acc: 0.9144\n",
      "Epoch 191/200\n",
      "58500/58500 [==============================] - 2s 29us/step - loss: 0.2582 - acc: 0.9143\n",
      "Epoch 192/200\n",
      "58500/58500 [==============================] - 2s 29us/step - loss: 0.2575 - acc: 0.9150\n",
      "Epoch 193/200\n",
      "58500/58500 [==============================] - 2s 30us/step - loss: 0.2555 - acc: 0.9160\n",
      "Epoch 194/200\n",
      "58500/58500 [==============================] - 2s 30us/step - loss: 0.2555 - acc: 0.9158\n",
      "Epoch 195/200\n",
      "58500/58500 [==============================] - 2s 29us/step - loss: 0.2532 - acc: 0.9165\n",
      "Epoch 196/200\n",
      "58500/58500 [==============================] - 2s 29us/step - loss: 0.2528 - acc: 0.9164\n",
      "Epoch 197/200\n",
      "58500/58500 [==============================] - 2s 30us/step - loss: 0.2508 - acc: 0.9175\n",
      "Epoch 198/200\n",
      "58500/58500 [==============================] - 2s 30us/step - loss: 0.2500 - acc: 0.9181: 0s - loss: 0.2460\n",
      "Epoch 199/200\n",
      "58500/58500 [==============================] - 2s 30us/step - loss: 0.2490 - acc: 0.9188\n",
      "Epoch 200/200\n",
      "58500/58500 [==============================] - 2s 35us/step - loss: 0.2476 - acc: 0.9188\n"
     ]
    }
   ],
   "source": [
    "# Train the model \n",
    "history = model.fit(train, label_train, epochs=200, batch_size=256)"
   ]
  },
  {
   "cell_type": "markdown",
   "metadata": {},
   "source": [
    "Recall that the dictionary `history` has two entries: the loss and the accuracy achieved using the training set."
   ]
  },
  {
   "cell_type": "code",
   "execution_count": 39,
   "metadata": {
    "ExecuteTime": {
     "end_time": "2020-05-08T05:47:08.850683Z",
     "start_time": "2020-05-08T05:47:08.832739Z"
    }
   },
   "outputs": [
    {
     "data": {
      "text/plain": [
       "dict_keys(['loss', 'acc'])"
      ]
     },
     "execution_count": 39,
     "metadata": {},
     "output_type": "execute_result"
    }
   ],
   "source": [
    "history_dict = history.history\n",
    "history_dict.keys()"
   ]
  },
  {
   "cell_type": "markdown",
   "metadata": {},
   "source": [
    "## Plot the results\n",
    "\n",
    "As you might expect, we'll use our `matplotlib` for graphing. Use the data stored in the `history_dict` above to plot the loss vs epochs and the accuracy vs epochs. "
   ]
  },
  {
   "cell_type": "code",
   "execution_count": 43,
   "metadata": {
    "ExecuteTime": {
     "end_time": "2020-05-08T05:51:38.347168Z",
     "start_time": "2020-05-08T05:51:38.108508Z"
    }
   },
   "outputs": [
    {
     "data": {
      "image/png": "[encoded data removed]",
      "text/plain": [
       "<Figure size 432x288 with 1 Axes>"
      ]
     },
     "metadata": {
      "needs_background": "light"
     },
     "output_type": "display_data"
    }
   ],
   "source": [
    "# Plot the loss vs the number of epoch\n",
    "loss_values = history_dict['loss']\n",
    "epochs = range(1, len(loss_values) + 1)\n",
    "\n",
    "plt.plot(epochs, loss_values, label='Training loss')\n",
    "plt.title('Training loss')\n",
    "plt.xlabel('Epochs')\n",
    "plt.ylabel('Loss')\n",
    "plt.legend()\n",
    "plt.show()"
   ]
  },
  {
   "cell_type": "code",
   "execution_count": 44,
   "metadata": {
    "ExecuteTime": {
     "end_time": "2020-05-08T05:53:29.281155Z",
     "start_time": "2020-05-08T05:53:29.061194Z"
    }
   },
   "outputs": [
    {
     "data": {
      "image/png": "[encoded data removed]",
      "text/plain": [
       "<Figure size 432x288 with 1 Axes>"
      ]
     },
     "metadata": {
      "needs_background": "light"
     },
     "output_type": "display_data"
    }
   ],
   "source": [
    "# Plot the training accuracy vs the number of epochs\n",
    "\n",
    "acc_scores = history_dict['acc']\n",
    "\n",
    "plt.plot(epochs, acc_scores, label='Training accuracy')\n",
    "plt.title('Training accuracy')\n",
    "plt.xlabel('Epochs')\n",
    "plt.ylabel('Accuracy')\n",
    "plt.legend()\n",
    "plt.show()"
   ]
  },
  {
   "cell_type": "markdown",
   "metadata": {},
   "source": [
    "It seems like we could just keep on going and accuracy would go up!"
   ]
  },
  {
   "cell_type": "markdown",
   "metadata": {},
   "source": [
    "## Make predictions\n",
    "\n",
    "Finally, it's time to make predictions. Use the relevant method discussed in the previous lesson to output (probability) predictions for the test set."
   ]
  },
  {
   "cell_type": "code",
   "execution_count": 45,
   "metadata": {
    "ExecuteTime": {
     "end_time": "2020-05-08T05:56:24.156820Z",
     "start_time": "2020-05-08T05:56:24.034013Z"
    }
   },
   "outputs": [],
   "source": [
    "# Output (probability) predictions for the test set \n",
    "y_hat_test = model.predict(test)"
   ]
  },
  {
   "cell_type": "markdown",
   "metadata": {},
   "source": [
    "## Evaluate Performance\n",
    "\n",
    "Finally, print the loss and accuracy for both the train and test sets of the final trained model."
   ]
  },
  {
   "cell_type": "code",
   "execution_count": 46,
   "metadata": {
    "ExecuteTime": {
     "end_time": "2020-05-08T05:58:47.856558Z",
     "start_time": "2020-05-08T05:58:42.762015Z"
    }
   },
   "outputs": [
    {
     "name": "stdout",
     "output_type": "stream",
     "text": [
      "58500/58500 [==============================] - 5s 87us/step\n"
     ]
    },
    {
     "data": {
      "text/plain": [
       "[0.24241055206680653, 0.9222905982905983]"
      ]
     },
     "execution_count": 46,
     "metadata": {},
     "output_type": "execute_result"
    }
   ],
   "source": [
    "# Print the loss and accuracy for the training set \n",
    "results_train = model.evaluate(train, label_train)\n",
    "results_train"
   ]
  },
  {
   "cell_type": "code",
   "execution_count": 47,
   "metadata": {
    "ExecuteTime": {
     "end_time": "2020-05-08T05:59:16.621631Z",
     "start_time": "2020-05-08T05:59:16.496394Z"
    }
   },
   "outputs": [
    {
     "name": "stdout",
     "output_type": "stream",
     "text": [
      "1500/1500 [==============================] - 0s 75us/step\n"
     ]
    },
    {
     "data": {
      "text/plain": [
       "[0.28262929155429206, 0.9299999995231628]"
      ]
     },
     "execution_count": 47,
     "metadata": {},
     "output_type": "execute_result"
    }
   ],
   "source": [
    "# Print the loss and accuracy for the test set \n",
    "results_test = model.evaluate(test, label_test)\n",
    "results_test"
   ]
  },
  {
   "cell_type": "markdown",
   "metadata": {},
   "source": [
    "We can see that the training set results are really good, but the test set results lag behind. We'll talk a little more about this in the next lesson, and discuss how we can get better test set results as well!\n",
    "\n",
    "\n",
    "## Additional Resources \n",
    "\n",
    "- https://github.com/susanli2016/Machine-Learning-with-Python/blob/master/Consumer_complaints.ipynb \n",
    "- https://catalog.data.gov/dataset/consumer-complaint-database \n",
    "\n",
    "## Summary \n",
    "\n",
    "Congratulations! In this lab, you built a neural network thanks to the tools provided by Keras! In upcoming lessons and labs we'll continue to investigate further ideas regarding how to tune and refine these models for increased accuracy and performance."
   ]
  }
 ],
 "metadata": {
  "kernelspec": {
   "display_name": "learn-env",
   "language": "python",
   "name": "learn-env"
  },
  "language_info": {
   "codemirror_mode": {
    "name": "ipython",
    "version": 3
   },
   "file_extension": ".py",
   "mimetype": "text/x-python",
   "name": "python",
   "nbconvert_exporter": "python",
   "pygments_lexer": "ipython3",
   "version": "3.6.6"
  },
  "toc": {
   "base_numbering": 1,
   "nav_menu": {},
   "number_sections": true,
   "sideBar": true,
   "skip_h1_title": false,
   "title_cell": "Table of Contents",
   "title_sidebar": "Contents",
   "toc_cell": false,
   "toc_position": {},
   "toc_section_display": true,
   "toc_window_display": false
  }
 },
 "nbformat": 4,
 "nbformat_minor": 2
}
